{
 "cells": [
  {
   "cell_type": "code",
   "execution_count": 0,
   "metadata": {
    "colab": {},
    "colab_type": "code",
    "id": "xp3b-QftOOM8"
   },
   "outputs": [],
   "source": [
    "import pandas as pd\n",
    "import numpy as np\n",
    "import matplotlib\n",
    "import matplotlib.pyplot as plt\n",
    "import seaborn as sns\n",
    "import datetime\n",
    "\n",
    "pd.set_option('display.max_rows',500)\n",
    "\n",
    "matplotlib.rc(\"font\",family=\"NanumGothic\")"
   ]
  },
  {
   "cell_type": "code",
   "execution_count": 0,
   "metadata": {
    "colab": {},
    "colab_type": "code",
    "id": "ouPjAEH4OONA",
    "outputId": "a8a79a36-7147-4dee-ed9e-a27b686d875d"
   },
   "outputs": [
    {
     "data": {
      "text/html": [
       "<div>\n",
       "<style scoped>\n",
       "    .dataframe tbody tr th:only-of-type {\n",
       "        vertical-align: middle;\n",
       "    }\n",
       "\n",
       "    .dataframe tbody tr th {\n",
       "        vertical-align: top;\n",
       "    }\n",
       "\n",
       "    .dataframe thead th {\n",
       "        text-align: right;\n",
       "    }\n",
       "</style>\n",
       "<table border=\"1\" class=\"dataframe\">\n",
       "  <thead>\n",
       "    <tr style=\"text-align: right;\">\n",
       "      <th></th>\n",
       "      <th>회원번호</th>\n",
       "      <th>조합원상태</th>\n",
       "      <th>주소</th>\n",
       "      <th>성별</th>\n",
       "      <th>연령</th>\n",
       "      <th>배송서비스신청여부</th>\n",
       "      <th>모바일알람여부</th>\n",
       "      <th>Gold_member</th>\n",
       "    </tr>\n",
       "  </thead>\n",
       "  <tbody>\n",
       "    <tr>\n",
       "      <td>0</td>\n",
       "      <td>1000012800</td>\n",
       "      <td>정상회원</td>\n",
       "      <td>수지구-풍덕천동</td>\n",
       "      <td>여</td>\n",
       "      <td>58.0</td>\n",
       "      <td>미신청</td>\n",
       "      <td>.</td>\n",
       "      <td>normal</td>\n",
       "    </tr>\n",
       "    <tr>\n",
       "      <td>1</td>\n",
       "      <td>1000103744</td>\n",
       "      <td>정상회원</td>\n",
       "      <td>처인구-고림동</td>\n",
       "      <td>여</td>\n",
       "      <td>34.0</td>\n",
       "      <td>미신청</td>\n",
       "      <td>.</td>\n",
       "      <td>normal</td>\n",
       "    </tr>\n",
       "    <tr>\n",
       "      <td>2</td>\n",
       "      <td>1000122304</td>\n",
       "      <td>정상회원</td>\n",
       "      <td>광주-기타</td>\n",
       "      <td>여</td>\n",
       "      <td>38.0</td>\n",
       "      <td>미신청</td>\n",
       "      <td>.</td>\n",
       "      <td>normal</td>\n",
       "    </tr>\n",
       "    <tr>\n",
       "      <td>3</td>\n",
       "      <td>1000163136</td>\n",
       "      <td>정상회원</td>\n",
       "      <td>수지구-동천동</td>\n",
       "      <td>여</td>\n",
       "      <td>73.0</td>\n",
       "      <td>미신청</td>\n",
       "      <td>.</td>\n",
       "      <td>normal</td>\n",
       "    </tr>\n",
       "    <tr>\n",
       "      <td>4</td>\n",
       "      <td>1000281920</td>\n",
       "      <td>정상회원</td>\n",
       "      <td>수지구-풍덕천동</td>\n",
       "      <td>여</td>\n",
       "      <td>42.0</td>\n",
       "      <td>신청</td>\n",
       "      <td>.</td>\n",
       "      <td>normal</td>\n",
       "    </tr>\n",
       "    <tr>\n",
       "      <td>...</td>\n",
       "      <td>...</td>\n",
       "      <td>...</td>\n",
       "      <td>...</td>\n",
       "      <td>...</td>\n",
       "      <td>...</td>\n",
       "      <td>...</td>\n",
       "      <td>...</td>\n",
       "      <td>...</td>\n",
       "    </tr>\n",
       "    <tr>\n",
       "      <td>11550</td>\n",
       "      <td>999682432</td>\n",
       "      <td>탈퇴</td>\n",
       "      <td>수지구-동천동</td>\n",
       "      <td>여</td>\n",
       "      <td>47.0</td>\n",
       "      <td>미신청</td>\n",
       "      <td>.</td>\n",
       "      <td>normal</td>\n",
       "    </tr>\n",
       "    <tr>\n",
       "      <td>11551</td>\n",
       "      <td>999721408</td>\n",
       "      <td>정상회원</td>\n",
       "      <td>수지구-동천동</td>\n",
       "      <td>여</td>\n",
       "      <td>43.0</td>\n",
       "      <td>미신청</td>\n",
       "      <td>.</td>\n",
       "      <td>normal</td>\n",
       "    </tr>\n",
       "    <tr>\n",
       "      <td>11552</td>\n",
       "      <td>999738112</td>\n",
       "      <td>정상회원</td>\n",
       "      <td>수지구-성복동</td>\n",
       "      <td>여</td>\n",
       "      <td>67.0</td>\n",
       "      <td>미신청</td>\n",
       "      <td>.</td>\n",
       "      <td>normal</td>\n",
       "    </tr>\n",
       "    <tr>\n",
       "      <td>11553</td>\n",
       "      <td>999754816</td>\n",
       "      <td>정상회원</td>\n",
       "      <td>수지구-상현동</td>\n",
       "      <td>여</td>\n",
       "      <td>44.0</td>\n",
       "      <td>신청</td>\n",
       "      <td>.</td>\n",
       "      <td>normal</td>\n",
       "    </tr>\n",
       "    <tr>\n",
       "      <td>11554</td>\n",
       "      <td>99995712</td>\n",
       "      <td>정상회원</td>\n",
       "      <td>수지구-상현동</td>\n",
       "      <td>여</td>\n",
       "      <td>66.0</td>\n",
       "      <td>미신청</td>\n",
       "      <td>.</td>\n",
       "      <td>normal</td>\n",
       "    </tr>\n",
       "  </tbody>\n",
       "</table>\n",
       "<p>11555 rows × 8 columns</p>\n",
       "</div>"
      ],
      "text/plain": [
       "             회원번호 조합원상태        주소 성별    연령 배송서비스신청여부 모바일알람여부 Gold_member\n",
       "0      1000012800  정상회원  수지구-풍덕천동  여  58.0       미신청       .      normal\n",
       "1      1000103744  정상회원   처인구-고림동  여  34.0       미신청       .      normal\n",
       "2      1000122304  정상회원     광주-기타  여  38.0       미신청       .      normal\n",
       "3      1000163136  정상회원   수지구-동천동  여  73.0       미신청       .      normal\n",
       "4      1000281920  정상회원  수지구-풍덕천동  여  42.0        신청       .      normal\n",
       "...           ...   ...       ... ..   ...       ...     ...         ...\n",
       "11550   999682432    탈퇴   수지구-동천동  여  47.0       미신청       .      normal\n",
       "11551   999721408  정상회원   수지구-동천동  여  43.0       미신청       .      normal\n",
       "11552   999738112  정상회원   수지구-성복동  여  67.0       미신청       .      normal\n",
       "11553   999754816  정상회원   수지구-상현동  여  44.0        신청       .      normal\n",
       "11554    99995712  정상회원   수지구-상현동  여  66.0       미신청       .      normal\n",
       "\n",
       "[11555 rows x 8 columns]"
      ]
     },
     "execution_count": 47,
     "metadata": {
      "tags": []
     },
     "output_type": "execute_result"
    }
   ],
   "source": [
    "df = pd.read_csv(\"member_data.csv\")\n",
    "df"
   ]
  },
  {
   "cell_type": "code",
   "execution_count": 0,
   "metadata": {
    "colab": {},
    "colab_type": "code",
    "id": "NbgU33siOOND"
   },
   "outputs": [],
   "source": [
    "pro_01 = pd.read_csv(\"product_data_01.csv\")\n",
    "pro_02 = pd.read_csv(\"product_data_02.csv\")\n",
    "pro_03 = pd.read_csv(\"product_data_03.csv\")\n",
    "pro_04 = pd.read_csv(\"product_data_04.csv\")               "
   ]
  },
  {
   "cell_type": "code",
   "execution_count": 0,
   "metadata": {
    "colab": {},
    "colab_type": "code",
    "id": "vIDaCi_-OONF",
    "outputId": "14ae91e9-a4c7-4bbd-e5b7-30f443d3939d"
   },
   "outputs": [
    {
     "data": {
      "text/html": [
       "<div>\n",
       "<style scoped>\n",
       "    .dataframe tbody tr th:only-of-type {\n",
       "        vertical-align: middle;\n",
       "    }\n",
       "\n",
       "    .dataframe tbody tr th {\n",
       "        vertical-align: top;\n",
       "    }\n",
       "\n",
       "    .dataframe thead th {\n",
       "        text-align: right;\n",
       "    }\n",
       "</style>\n",
       "<table border=\"1\" class=\"dataframe\">\n",
       "  <thead>\n",
       "    <tr style=\"text-align: right;\">\n",
       "      <th></th>\n",
       "      <th>공급일자</th>\n",
       "      <th>회원번호</th>\n",
       "      <th>조합원상태</th>\n",
       "      <th>물품대분류</th>\n",
       "      <th>물품중분류</th>\n",
       "      <th>물품소분류</th>\n",
       "      <th>물품명</th>\n",
       "      <th>구매수량</th>\n",
       "      <th>구매금액</th>\n",
       "      <th>구매매장</th>\n",
       "      <th>반품_원거래일자</th>\n",
       "      <th>구매시각</th>\n",
       "    </tr>\n",
       "  </thead>\n",
       "  <tbody>\n",
       "    <tr>\n",
       "      <td>0</td>\n",
       "      <td>2018-01-02</td>\n",
       "      <td>272369856</td>\n",
       "      <td>정상회원</td>\n",
       "      <td>과실</td>\n",
       "      <td>과일</td>\n",
       "      <td>사과</td>\n",
       "      <td>사과/유(1.5kg)</td>\n",
       "      <td>1.0</td>\n",
       "      <td>22207</td>\n",
       "      <td>매장C</td>\n",
       "      <td>NaN</td>\n",
       "      <td>10:04</td>\n",
       "    </tr>\n",
       "    <tr>\n",
       "      <td>1</td>\n",
       "      <td>2018-01-02</td>\n",
       "      <td>1476143616</td>\n",
       "      <td>정상회원</td>\n",
       "      <td>간식</td>\n",
       "      <td>빵</td>\n",
       "      <td>식빵, 식사대용</td>\n",
       "      <td>아침빵(240g/8개)/매장</td>\n",
       "      <td>1.0</td>\n",
       "      <td>4403</td>\n",
       "      <td>매장C</td>\n",
       "      <td>NaN</td>\n",
       "      <td>10:09</td>\n",
       "    </tr>\n",
       "    <tr>\n",
       "      <td>2</td>\n",
       "      <td>2018-01-02</td>\n",
       "      <td>743192512</td>\n",
       "      <td>정상회원</td>\n",
       "      <td>채소</td>\n",
       "      <td>양념채소</td>\n",
       "      <td>생강</td>\n",
       "      <td>생강(300g)</td>\n",
       "      <td>1.0</td>\n",
       "      <td>7083</td>\n",
       "      <td>매장C</td>\n",
       "      <td>NaN</td>\n",
       "      <td>10:12</td>\n",
       "    </tr>\n",
       "    <tr>\n",
       "      <td>3</td>\n",
       "      <td>2018-01-02</td>\n",
       "      <td>176912064</td>\n",
       "      <td>정상회원</td>\n",
       "      <td>축산물</td>\n",
       "      <td>유제품</td>\n",
       "      <td>우유/산양유</td>\n",
       "      <td>유기농저지방우유(종이팩/900ml)</td>\n",
       "      <td>1.0</td>\n",
       "      <td>7849</td>\n",
       "      <td>매장C</td>\n",
       "      <td>NaN</td>\n",
       "      <td>10:23</td>\n",
       "    </tr>\n",
       "    <tr>\n",
       "      <td>4</td>\n",
       "      <td>2018-01-02</td>\n",
       "      <td>87592064</td>\n",
       "      <td>정상회원</td>\n",
       "      <td>양념/가루</td>\n",
       "      <td>가루</td>\n",
       "      <td>양념가루</td>\n",
       "      <td>카레(매운맛: 100g)</td>\n",
       "      <td>3.0</td>\n",
       "      <td>15507</td>\n",
       "      <td>매장C</td>\n",
       "      <td>NaN</td>\n",
       "      <td>10:29</td>\n",
       "    </tr>\n",
       "    <tr>\n",
       "      <td>...</td>\n",
       "      <td>...</td>\n",
       "      <td>...</td>\n",
       "      <td>...</td>\n",
       "      <td>...</td>\n",
       "      <td>...</td>\n",
       "      <td>...</td>\n",
       "      <td>...</td>\n",
       "      <td>...</td>\n",
       "      <td>...</td>\n",
       "      <td>...</td>\n",
       "      <td>...</td>\n",
       "      <td>...</td>\n",
       "    </tr>\n",
       "    <tr>\n",
       "      <td>52565</td>\n",
       "      <td>2018-10-31</td>\n",
       "      <td>1110819712</td>\n",
       "      <td>정상회원</td>\n",
       "      <td>채소</td>\n",
       "      <td>뿌리채소</td>\n",
       "      <td>무</td>\n",
       "      <td>무(0.7~1kg미만)</td>\n",
       "      <td>1.0</td>\n",
       "      <td>2680</td>\n",
       "      <td>매장A</td>\n",
       "      <td>NaN</td>\n",
       "      <td>13:26</td>\n",
       "    </tr>\n",
       "    <tr>\n",
       "      <td>52566</td>\n",
       "      <td>2018-10-31</td>\n",
       "      <td>1517953728</td>\n",
       "      <td>정상회원</td>\n",
       "      <td>채소</td>\n",
       "      <td>양념채소</td>\n",
       "      <td>쪽파</td>\n",
       "      <td>쪽파(500g)</td>\n",
       "      <td>1.0</td>\n",
       "      <td>4212</td>\n",
       "      <td>매장A</td>\n",
       "      <td>NaN</td>\n",
       "      <td>10:58</td>\n",
       "    </tr>\n",
       "    <tr>\n",
       "      <td>52567</td>\n",
       "      <td>2018-10-31</td>\n",
       "      <td>713691392</td>\n",
       "      <td>정상회원</td>\n",
       "      <td>반찬</td>\n",
       "      <td>밑반찬</td>\n",
       "      <td>조림</td>\n",
       "      <td>우엉조림(반찬용/150g)</td>\n",
       "      <td>1.0</td>\n",
       "      <td>7658</td>\n",
       "      <td>매장A</td>\n",
       "      <td>NaN</td>\n",
       "      <td>14:36</td>\n",
       "    </tr>\n",
       "    <tr>\n",
       "      <td>52568</td>\n",
       "      <td>2018-10-31</td>\n",
       "      <td>247926336</td>\n",
       "      <td>정상회원</td>\n",
       "      <td>간식</td>\n",
       "      <td>빵</td>\n",
       "      <td>건강곡물빵</td>\n",
       "      <td>감자바게트(180g)/매장</td>\n",
       "      <td>1.0</td>\n",
       "      <td>5169</td>\n",
       "      <td>매장A</td>\n",
       "      <td>NaN</td>\n",
       "      <td>16:23</td>\n",
       "    </tr>\n",
       "    <tr>\n",
       "      <td>52569</td>\n",
       "      <td>2018-10-31</td>\n",
       "      <td>748292800</td>\n",
       "      <td>정상회원</td>\n",
       "      <td>채소</td>\n",
       "      <td>뿌리채소</td>\n",
       "      <td>무</td>\n",
       "      <td>무(1kg이상)</td>\n",
       "      <td>1.0</td>\n",
       "      <td>3829</td>\n",
       "      <td>매장A</td>\n",
       "      <td>NaN</td>\n",
       "      <td>16:51</td>\n",
       "    </tr>\n",
       "  </tbody>\n",
       "</table>\n",
       "<p>294645 rows × 12 columns</p>\n",
       "</div>"
      ],
      "text/plain": [
       "             공급일자        회원번호 조합원상태  물품대분류 물품중분류     물품소분류  \\\n",
       "0      2018-01-02   272369856  정상회원     과실    과일        사과   \n",
       "1      2018-01-02  1476143616  정상회원     간식     빵  식빵, 식사대용   \n",
       "2      2018-01-02   743192512  정상회원     채소  양념채소        생강   \n",
       "3      2018-01-02   176912064  정상회원    축산물   유제품    우유/산양유   \n",
       "4      2018-01-02    87592064  정상회원  양념/가루    가루      양념가루   \n",
       "...           ...         ...   ...    ...   ...       ...   \n",
       "52565  2018-10-31  1110819712  정상회원     채소  뿌리채소         무   \n",
       "52566  2018-10-31  1517953728  정상회원     채소  양념채소        쪽파   \n",
       "52567  2018-10-31   713691392  정상회원     반찬   밑반찬        조림   \n",
       "52568  2018-10-31   247926336  정상회원     간식     빵     건강곡물빵   \n",
       "52569  2018-10-31   748292800  정상회원     채소  뿌리채소         무   \n",
       "\n",
       "                       물품명  구매수량   구매금액 구매매장  반품_원거래일자   구매시각  \n",
       "0              사과/유(1.5kg)   1.0  22207  매장C       NaN  10:04  \n",
       "1          아침빵(240g/8개)/매장   1.0   4403  매장C       NaN  10:09  \n",
       "2                 생강(300g)   1.0   7083  매장C       NaN  10:12  \n",
       "3      유기농저지방우유(종이팩/900ml)   1.0   7849  매장C       NaN  10:23  \n",
       "4            카레(매운맛: 100g)   3.0  15507  매장C       NaN  10:29  \n",
       "...                    ...   ...    ...  ...       ...    ...  \n",
       "52565         무(0.7~1kg미만)   1.0   2680  매장A       NaN  13:26  \n",
       "52566             쪽파(500g)   1.0   4212  매장A       NaN  10:58  \n",
       "52567       우엉조림(반찬용/150g)   1.0   7658  매장A       NaN  14:36  \n",
       "52568       감자바게트(180g)/매장   1.0   5169  매장A       NaN  16:23  \n",
       "52569             무(1kg이상)   1.0   3829  매장A       NaN  16:51  \n",
       "\n",
       "[294645 rows x 12 columns]"
      ]
     },
     "execution_count": 5,
     "metadata": {
      "tags": []
     },
     "output_type": "execute_result"
    }
   ],
   "source": [
    "prodata=pd.concat([pro_01,pro_02,pro_03,pro_04])\n",
    "prodata"
   ]
  },
  {
   "cell_type": "markdown",
   "metadata": {
    "colab_type": "text",
    "id": "gGawSAIXOONH"
   },
   "source": [
    "## 회원분석"
   ]
  },
  {
   "cell_type": "code",
   "execution_count": 0,
   "metadata": {
    "colab": {},
    "colab_type": "code",
    "id": "K2JPGfWfOONI",
    "outputId": "47f63f5d-94d3-4b5f-a6da-0577ba07893b",
    "scrolled": true
   },
   "outputs": [
    {
     "name": "stdout",
     "output_type": "stream",
     "text": [
      "<class 'pandas.core.frame.DataFrame'>\n",
      "RangeIndex: 11555 entries, 0 to 11554\n",
      "Data columns (total 8 columns):\n",
      "회원번호           11555 non-null int64\n",
      "조합원상태          11555 non-null object\n",
      "주소             11555 non-null object\n",
      "성별             11553 non-null object\n",
      "연령             11553 non-null float64\n",
      "배송서비스신청여부      11555 non-null object\n",
      "모바일알람여부        11555 non-null object\n",
      "Gold_member    11555 non-null object\n",
      "dtypes: float64(1), int64(1), object(6)\n",
      "memory usage: 722.3+ KB\n"
     ]
    }
   ],
   "source": [
    "df.info()"
   ]
  },
  {
   "cell_type": "code",
   "execution_count": 0,
   "metadata": {
    "colab": {},
    "colab_type": "code",
    "id": "WqRe8omdOONK",
    "outputId": "45924449-846c-4d21-9547-41027a0344fc",
    "scrolled": true
   },
   "outputs": [
    {
     "data": {
      "text/plain": [
       "회원번호           0\n",
       "조합원상태          0\n",
       "주소             0\n",
       "성별             2\n",
       "연령             2\n",
       "배송서비스신청여부      0\n",
       "모바일알람여부        0\n",
       "Gold_member    0\n",
       "dtype: int64"
      ]
     },
     "execution_count": 9,
     "metadata": {
      "tags": []
     },
     "output_type": "execute_result"
    }
   ],
   "source": [
    "df.isnull().sum()"
   ]
  },
  {
   "cell_type": "markdown",
   "metadata": {
    "colab_type": "text",
    "id": "68tAhbZfOONM"
   },
   "source": [
    "### 성별 "
   ]
  },
  {
   "cell_type": "code",
   "execution_count": 0,
   "metadata": {
    "colab": {},
    "colab_type": "code",
    "id": "x3xvb-eoOONN",
    "outputId": "486a98b7-7741-4e06-da83-158fd2d528cc"
   },
   "outputs": [
    {
     "data": {
      "text/plain": [
       "회원번호           0\n",
       "조합원상태          0\n",
       "주소             0\n",
       "성별             0\n",
       "연령             2\n",
       "배송서비스신청여부      0\n",
       "모바일알람여부        0\n",
       "Gold_member    0\n",
       "dtype: int64"
      ]
     },
     "execution_count": 10,
     "metadata": {
      "tags": []
     },
     "output_type": "execute_result"
    }
   ],
   "source": [
    "#성별 결측치 최빈값으로 대체\n",
    "df['성별'].fillna('여', inplace=True) \n",
    "df.isna().sum()"
   ]
  },
  {
   "cell_type": "code",
   "execution_count": 0,
   "metadata": {
    "colab": {},
    "colab_type": "code",
    "id": "oOHoV4zdOONP",
    "outputId": "e921e426-5699-42c0-89ed-98cf05c116aa",
    "scrolled": true
   },
   "outputs": [
    {
     "data": {
      "text/plain": [
       "<matplotlib.axes._subplots.AxesSubplot at 0x7fc24a485358>"
      ]
     },
     "execution_count": 11,
     "metadata": {
      "tags": []
     },
     "output_type": "execute_result"
    },
    {
     "data": {
      "image/png": "[encoded data removed]",
      "text/plain": [
       "<Figure size 432x288 with 1 Axes>"
      ]
     },
     "metadata": {
      "needs_background": "light",
      "tags": []
     },
     "output_type": "display_data"
    }
   ],
   "source": [
    "df_count=df['성별'].value_counts() \n",
    "df_count.plot.barh()"
   ]
  },
  {
   "cell_type": "markdown",
   "metadata": {
    "colab_type": "text",
    "id": "Vic-qj8dOONS"
   },
   "source": [
    "### 연령"
   ]
  },
  {
   "cell_type": "code",
   "execution_count": 0,
   "metadata": {
    "colab": {},
    "colab_type": "code",
    "id": "-PHedIPeOONS",
    "outputId": "074a6914-9f18-4eff-8dc1-794cf7b71355"
   },
   "outputs": [
    {
     "data": {
      "text/plain": [
       "회원번호           0\n",
       "조합원상태          0\n",
       "주소             0\n",
       "성별             0\n",
       "연령             0\n",
       "배송서비스신청여부      0\n",
       "모바일알람여부        0\n",
       "Gold_member    0\n",
       "dtype: int64"
      ]
     },
     "execution_count": 12,
     "metadata": {
      "tags": []
     },
     "output_type": "execute_result"
    }
   ],
   "source": [
    "#연령 결측치 평균 연령으로 대체\n",
    "df[\"연령\"].fillna(49.7,inplace=True)\n",
    "df.isna().sum()"
   ]
  },
  {
   "cell_type": "code",
   "execution_count": 0,
   "metadata": {
    "colab": {},
    "colab_type": "code",
    "id": "eM7sl5rIOONU",
    "outputId": "5f9828f1-71f0-4657-e031-6090aed88c69"
   },
   "outputs": [
    {
     "data": {
      "text/plain": [
       "count    11555.000000\n",
       "mean        49.704232\n",
       "std         11.562222\n",
       "min         17.000000\n",
       "25%         41.000000\n",
       "50%         48.000000\n",
       "75%         56.000000\n",
       "max        108.000000\n",
       "Name: 연령, dtype: float64"
      ]
     },
     "execution_count": 14,
     "metadata": {
      "tags": []
     },
     "output_type": "execute_result"
    }
   ],
   "source": [
    "df[\"연령\"].describe()"
   ]
  },
  {
   "cell_type": "code",
   "execution_count": 0,
   "metadata": {
    "colab": {},
    "colab_type": "code",
    "id": "CZUqqySuOONW",
    "outputId": "523d336b-8ac7-4386-8269-040d262e9544"
   },
   "outputs": [
    {
     "data": {
      "text/html": [
       "<div>\n",
       "<style scoped>\n",
       "    .dataframe tbody tr th:only-of-type {\n",
       "        vertical-align: middle;\n",
       "    }\n",
       "\n",
       "    .dataframe tbody tr th {\n",
       "        vertical-align: top;\n",
       "    }\n",
       "\n",
       "    .dataframe thead th {\n",
       "        text-align: right;\n",
       "    }\n",
       "</style>\n",
       "<table border=\"1\" class=\"dataframe\">\n",
       "  <thead>\n",
       "    <tr style=\"text-align: right;\">\n",
       "      <th></th>\n",
       "      <th>회원번호</th>\n",
       "      <th>조합원상태</th>\n",
       "      <th>주소</th>\n",
       "      <th>성별</th>\n",
       "      <th>연령</th>\n",
       "      <th>배송서비스신청여부</th>\n",
       "      <th>모바일알람여부</th>\n",
       "      <th>Gold_member</th>\n",
       "    </tr>\n",
       "  </thead>\n",
       "  <tbody>\n",
       "    <tr>\n",
       "      <td>4504</td>\n",
       "      <td>1670620864</td>\n",
       "      <td>정상회원</td>\n",
       "      <td>분당구-수내동</td>\n",
       "      <td>남</td>\n",
       "      <td>108.0</td>\n",
       "      <td>미신청</td>\n",
       "      <td>.</td>\n",
       "      <td>normal</td>\n",
       "    </tr>\n",
       "    <tr>\n",
       "      <td>7797</td>\n",
       "      <td>623725504</td>\n",
       "      <td>정상회원</td>\n",
       "      <td>기타-기타</td>\n",
       "      <td>여</td>\n",
       "      <td>107.0</td>\n",
       "      <td>미신청</td>\n",
       "      <td>.</td>\n",
       "      <td>normal</td>\n",
       "    </tr>\n",
       "    <tr>\n",
       "      <td>8823</td>\n",
       "      <td>742461248</td>\n",
       "      <td>정상회원</td>\n",
       "      <td>분당구-정자동</td>\n",
       "      <td>남</td>\n",
       "      <td>106.0</td>\n",
       "      <td>미신청</td>\n",
       "      <td>.</td>\n",
       "      <td>normal</td>\n",
       "    </tr>\n",
       "  </tbody>\n",
       "</table>\n",
       "</div>"
      ],
      "text/plain": [
       "            회원번호 조합원상태       주소 성별     연령 배송서비스신청여부 모바일알람여부 Gold_member\n",
       "4504  1670620864  정상회원  분당구-수내동  남  108.0       미신청       .      normal\n",
       "7797   623725504  정상회원    기타-기타  여  107.0       미신청       .      normal\n",
       "8823   742461248  정상회원  분당구-정자동  남  106.0       미신청       .      normal"
      ]
     },
     "execution_count": 15,
     "metadata": {
      "tags": []
     },
     "output_type": "execute_result"
    }
   ],
   "source": [
    "#연령 이상치 삭제  \n",
    "df[(df[\"연령\"]>=100)]"
   ]
  },
  {
   "cell_type": "code",
   "execution_count": 0,
   "metadata": {
    "colab": {},
    "colab_type": "code",
    "id": "lRJwE7jqOONZ",
    "outputId": "08e1cc92-106f-4edc-8204-f6b721ddf244"
   },
   "outputs": [
    {
     "data": {
      "text/html": [
       "<div>\n",
       "<style scoped>\n",
       "    .dataframe tbody tr th:only-of-type {\n",
       "        vertical-align: middle;\n",
       "    }\n",
       "\n",
       "    .dataframe tbody tr th {\n",
       "        vertical-align: top;\n",
       "    }\n",
       "\n",
       "    .dataframe thead th {\n",
       "        text-align: right;\n",
       "    }\n",
       "</style>\n",
       "<table border=\"1\" class=\"dataframe\">\n",
       "  <thead>\n",
       "    <tr style=\"text-align: right;\">\n",
       "      <th></th>\n",
       "      <th>회원번호</th>\n",
       "      <th>조합원상태</th>\n",
       "      <th>주소</th>\n",
       "      <th>성별</th>\n",
       "      <th>연령</th>\n",
       "      <th>배송서비스신청여부</th>\n",
       "      <th>모바일알람여부</th>\n",
       "      <th>Gold_member</th>\n",
       "    </tr>\n",
       "  </thead>\n",
       "  <tbody>\n",
       "    <tr>\n",
       "      <td>0</td>\n",
       "      <td>1000012800</td>\n",
       "      <td>정상회원</td>\n",
       "      <td>수지구-풍덕천동</td>\n",
       "      <td>여</td>\n",
       "      <td>58.0</td>\n",
       "      <td>미신청</td>\n",
       "      <td>.</td>\n",
       "      <td>normal</td>\n",
       "    </tr>\n",
       "    <tr>\n",
       "      <td>1</td>\n",
       "      <td>1000103744</td>\n",
       "      <td>정상회원</td>\n",
       "      <td>처인구-고림동</td>\n",
       "      <td>여</td>\n",
       "      <td>34.0</td>\n",
       "      <td>미신청</td>\n",
       "      <td>.</td>\n",
       "      <td>normal</td>\n",
       "    </tr>\n",
       "    <tr>\n",
       "      <td>2</td>\n",
       "      <td>1000122304</td>\n",
       "      <td>정상회원</td>\n",
       "      <td>광주-기타</td>\n",
       "      <td>여</td>\n",
       "      <td>38.0</td>\n",
       "      <td>미신청</td>\n",
       "      <td>.</td>\n",
       "      <td>normal</td>\n",
       "    </tr>\n",
       "    <tr>\n",
       "      <td>3</td>\n",
       "      <td>1000163136</td>\n",
       "      <td>정상회원</td>\n",
       "      <td>수지구-동천동</td>\n",
       "      <td>여</td>\n",
       "      <td>73.0</td>\n",
       "      <td>미신청</td>\n",
       "      <td>.</td>\n",
       "      <td>normal</td>\n",
       "    </tr>\n",
       "    <tr>\n",
       "      <td>4</td>\n",
       "      <td>1000281920</td>\n",
       "      <td>정상회원</td>\n",
       "      <td>수지구-풍덕천동</td>\n",
       "      <td>여</td>\n",
       "      <td>42.0</td>\n",
       "      <td>신청</td>\n",
       "      <td>.</td>\n",
       "      <td>normal</td>\n",
       "    </tr>\n",
       "    <tr>\n",
       "      <td>...</td>\n",
       "      <td>...</td>\n",
       "      <td>...</td>\n",
       "      <td>...</td>\n",
       "      <td>...</td>\n",
       "      <td>...</td>\n",
       "      <td>...</td>\n",
       "      <td>...</td>\n",
       "      <td>...</td>\n",
       "    </tr>\n",
       "    <tr>\n",
       "      <td>11550</td>\n",
       "      <td>999682432</td>\n",
       "      <td>탈퇴</td>\n",
       "      <td>수지구-동천동</td>\n",
       "      <td>여</td>\n",
       "      <td>47.0</td>\n",
       "      <td>미신청</td>\n",
       "      <td>.</td>\n",
       "      <td>normal</td>\n",
       "    </tr>\n",
       "    <tr>\n",
       "      <td>11551</td>\n",
       "      <td>999721408</td>\n",
       "      <td>정상회원</td>\n",
       "      <td>수지구-동천동</td>\n",
       "      <td>여</td>\n",
       "      <td>43.0</td>\n",
       "      <td>미신청</td>\n",
       "      <td>.</td>\n",
       "      <td>normal</td>\n",
       "    </tr>\n",
       "    <tr>\n",
       "      <td>11552</td>\n",
       "      <td>999738112</td>\n",
       "      <td>정상회원</td>\n",
       "      <td>수지구-성복동</td>\n",
       "      <td>여</td>\n",
       "      <td>67.0</td>\n",
       "      <td>미신청</td>\n",
       "      <td>.</td>\n",
       "      <td>normal</td>\n",
       "    </tr>\n",
       "    <tr>\n",
       "      <td>11553</td>\n",
       "      <td>999754816</td>\n",
       "      <td>정상회원</td>\n",
       "      <td>수지구-상현동</td>\n",
       "      <td>여</td>\n",
       "      <td>44.0</td>\n",
       "      <td>신청</td>\n",
       "      <td>.</td>\n",
       "      <td>normal</td>\n",
       "    </tr>\n",
       "    <tr>\n",
       "      <td>11554</td>\n",
       "      <td>99995712</td>\n",
       "      <td>정상회원</td>\n",
       "      <td>수지구-상현동</td>\n",
       "      <td>여</td>\n",
       "      <td>66.0</td>\n",
       "      <td>미신청</td>\n",
       "      <td>.</td>\n",
       "      <td>normal</td>\n",
       "    </tr>\n",
       "  </tbody>\n",
       "</table>\n",
       "<p>11552 rows × 8 columns</p>\n",
       "</div>"
      ],
      "text/plain": [
       "             회원번호 조합원상태        주소 성별    연령 배송서비스신청여부 모바일알람여부 Gold_member\n",
       "0      1000012800  정상회원  수지구-풍덕천동  여  58.0       미신청       .      normal\n",
       "1      1000103744  정상회원   처인구-고림동  여  34.0       미신청       .      normal\n",
       "2      1000122304  정상회원     광주-기타  여  38.0       미신청       .      normal\n",
       "3      1000163136  정상회원   수지구-동천동  여  73.0       미신청       .      normal\n",
       "4      1000281920  정상회원  수지구-풍덕천동  여  42.0        신청       .      normal\n",
       "...           ...   ...       ... ..   ...       ...     ...         ...\n",
       "11550   999682432    탈퇴   수지구-동천동  여  47.0       미신청       .      normal\n",
       "11551   999721408  정상회원   수지구-동천동  여  43.0       미신청       .      normal\n",
       "11552   999738112  정상회원   수지구-성복동  여  67.0       미신청       .      normal\n",
       "11553   999754816  정상회원   수지구-상현동  여  44.0        신청       .      normal\n",
       "11554    99995712  정상회원   수지구-상현동  여  66.0       미신청       .      normal\n",
       "\n",
       "[11552 rows x 8 columns]"
      ]
     },
     "execution_count": 16,
     "metadata": {
      "tags": []
     },
     "output_type": "execute_result"
    }
   ],
   "source": [
    "df = df[(df[\"연령\"]<100)]\n",
    "df"
   ]
  },
  {
   "cell_type": "code",
   "execution_count": 0,
   "metadata": {
    "colab": {},
    "colab_type": "code",
    "id": "bBU669fBOONd",
    "outputId": "82cb902c-1fbb-43de-9797-6d28311551a6"
   },
   "outputs": [
    {
     "data": {
      "text/plain": [
       "<matplotlib.axes._subplots.AxesSubplot at 0x7fc2490b5748>"
      ]
     },
     "execution_count": 17,
     "metadata": {
      "tags": []
     },
     "output_type": "execute_result"
    },
    {
     "data": {
      "image/png": "[encoded data removed]",
      "text/plain": [
       "<Figure size 432x288 with 1 Axes>"
      ]
     },
     "metadata": {
      "needs_background": "light",
      "tags": []
     },
     "output_type": "display_data"
    }
   ],
   "source": [
    "#100세 이상 연령 이상치 삭제 확인\n",
    "df.boxplot(\"연령\")"
   ]
  },
  {
   "cell_type": "code",
   "execution_count": 0,
   "metadata": {
    "colab": {},
    "colab_type": "code",
    "id": "vdz6ek44OONh",
    "outputId": "105c9459-3ea9-4b9c-d87b-44325cff970e",
    "scrolled": true
   },
   "outputs": [
    {
     "data": {
      "text/plain": [
       "count    11552.000000\n",
       "mean        49.689352\n",
       "std         11.526782\n",
       "min         17.000000\n",
       "25%         41.000000\n",
       "50%         48.000000\n",
       "75%         56.000000\n",
       "max         92.000000\n",
       "Name: 연령, dtype: float64"
      ]
     },
     "execution_count": 18,
     "metadata": {
      "tags": []
     },
     "output_type": "execute_result"
    }
   ],
   "source": [
    "df[\"연령\"].describe()"
   ]
  },
  {
   "cell_type": "code",
   "execution_count": 0,
   "metadata": {
    "colab": {},
    "colab_type": "code",
    "id": "eznT46dpOONl"
   },
   "outputs": [],
   "source": [
    "df['Age_cut']=0\n",
    "df['Age_cut']=pd.cut(df.연령,bins=[20,30,40,50,60,70,80,90,100],\\\n",
    "                         labels=[20,30,40,50,60,70,80,90])"
   ]
  },
  {
   "cell_type": "markdown",
   "metadata": {
    "colab_type": "text",
    "id": "rdSN6Bp-OONn"
   },
   "source": [
    "### 조합원상태"
   ]
  },
  {
   "cell_type": "code",
   "execution_count": 0,
   "metadata": {
    "colab": {},
    "colab_type": "code",
    "id": "yLm5gzmJOONn"
   },
   "outputs": [],
   "source": [
    "df['조합원상태']=np.where(df['조합원상태']=='정상회원',1,0)"
   ]
  },
  {
   "cell_type": "code",
   "execution_count": 0,
   "metadata": {
    "colab": {},
    "colab_type": "code",
    "id": "7XpDOcJhOONp",
    "outputId": "cdb0136c-9c5a-42e5-f7e1-539139f3cdcc"
   },
   "outputs": [
    {
     "data": {
      "text/plain": [
       "1    11410\n",
       "0      142\n",
       "Name: 조합원상태, dtype: int64"
      ]
     },
     "execution_count": 20,
     "metadata": {
      "tags": []
     },
     "output_type": "execute_result"
    }
   ],
   "source": [
    "df['조합원상태'].value_counts() #정상회원 1, 탈퇴회원 0"
   ]
  },
  {
   "cell_type": "markdown",
   "metadata": {
    "colab_type": "text",
    "id": "znBKZXNUOONr"
   },
   "source": [
    "### 주소"
   ]
  },
  {
   "cell_type": "code",
   "execution_count": 0,
   "metadata": {
    "colab": {},
    "colab_type": "code",
    "id": "8-SO247IOONs",
    "scrolled": true
   },
   "outputs": [],
   "source": [
    "# df['주소'].value_counts()"
   ]
  },
  {
   "cell_type": "code",
   "execution_count": 0,
   "metadata": {
    "colab": {},
    "colab_type": "code",
    "id": "gFmfTRZGOONt"
   },
   "outputs": [],
   "source": [
    "df[['주소_구', '주소_동']] = df['주소'].str.split('-', n=1, expand=True)"
   ]
  },
  {
   "cell_type": "code",
   "execution_count": 0,
   "metadata": {
    "colab": {},
    "colab_type": "code",
    "id": "AkqDudosOONv"
   },
   "outputs": [],
   "source": [
    "# df[\"배송서비스신청여부\"]=np.where(df[\"배송서비스신청여부\"]==\"미신청\",0,1) #신청 1, 미신청 0"
   ]
  },
  {
   "cell_type": "code",
   "execution_count": 0,
   "metadata": {
    "colab": {},
    "colab_type": "code",
    "id": "h2AIS8T8OONx"
   },
   "outputs": [],
   "source": [
    "# df[\"모바일알람여부\"]=np.where(df[\"모바일알람여부\"]==\".\",0,1) #신청 1, 미신청 0"
   ]
  },
  {
   "cell_type": "code",
   "execution_count": 0,
   "metadata": {
    "colab": {},
    "colab_type": "code",
    "id": "JOdSO7UwOONz"
   },
   "outputs": [],
   "source": []
  },
  {
   "cell_type": "code",
   "execution_count": 0,
   "metadata": {
    "colab": {},
    "colab_type": "code",
    "id": "Ummg1lqEOON2",
    "outputId": "ac870d9f-df17-491d-a63c-90b3913b6b7e"
   },
   "outputs": [
    {
     "data": {
      "text/plain": [
       "<matplotlib.axes._subplots.AxesSubplot at 0x7fc233bb9a90>"
      ]
     },
     "execution_count": 36,
     "metadata": {
      "tags": []
     },
     "output_type": "execute_result"
    },
    {
     "data": {
      "image/png": "[encoded data removed]",
      "text/plain": [
       "<Figure size 432x288 with 1 Axes>"
      ]
     },
     "metadata": {
      "needs_background": "light",
      "tags": []
     },
     "output_type": "display_data"
    }
   ],
   "source": [
    "df_count = df[\"성별\"].value_counts()  #여자 10,887, 남자 668\n",
    "df_count.plot.barh()"
   ]
  },
  {
   "cell_type": "code",
   "execution_count": 0,
   "metadata": {
    "colab": {},
    "colab_type": "code",
    "id": "ypRwlpHpOON5",
    "outputId": "3cc361f2-efdd-4e9c-d231-faacd4d19624"
   },
   "outputs": [
    {
     "data": {
      "text/plain": [
       "<matplotlib.axes._subplots.AxesSubplot at 0x7fc233c03a90>"
      ]
     },
     "execution_count": 37,
     "metadata": {
      "tags": []
     },
     "output_type": "execute_result"
    },
    {
     "data": {
      "image/png": "[encoded data removed]",
      "text/plain": [
       "<Figure size 432x288 with 1 Axes>"
      ]
     },
     "metadata": {
      "needs_background": "light",
      "tags": []
     },
     "output_type": "display_data"
    }
   ],
   "source": [
    "df_count = df[\"배송서비스신청여부\"].value_counts()  #신청 1,043, 미신청 10,512\n",
    "df_count.plot.barh()"
   ]
  },
  {
   "cell_type": "code",
   "execution_count": 0,
   "metadata": {
    "colab": {},
    "colab_type": "code",
    "id": "7D-WeF0XOON9",
    "outputId": "e1a81f2b-b373-4315-ee8c-158d2092604c"
   },
   "outputs": [
    {
     "data": {
      "text/plain": [
       "<matplotlib.axes._subplots.AxesSubplot at 0x7fc233caa6a0>"
      ]
     },
     "execution_count": 38,
     "metadata": {
      "tags": []
     },
     "output_type": "execute_result"
    },
    {
     "data": {
      "image/png": "[encoded data removed]",
      "text/plain": [
       "<Figure size 432x288 with 1 Axes>"
      ]
     },
     "metadata": {
      "needs_background": "light",
      "tags": []
     },
     "output_type": "display_data"
    }
   ],
   "source": [
    "df_count = df[\"모바일알람여부\"].value_counts()  #신청 902, 미신청 10,653\n",
    "df_count.plot.barh()"
   ]
  },
  {
   "cell_type": "code",
   "execution_count": 0,
   "metadata": {
    "colab": {},
    "colab_type": "code",
    "id": "QTwujxSsOOOA",
    "outputId": "72a9e3d6-9bbc-4db9-ca7e-f082c8790ccc"
   },
   "outputs": [
    {
     "data": {
      "text/plain": [
       "<matplotlib.axes._subplots.AxesSubplot at 0x7fc233bf1e80>"
      ]
     },
     "execution_count": 39,
     "metadata": {
      "tags": []
     },
     "output_type": "execute_result"
    },
    {
     "data": {
      "image/png": "[encoded data removed]",
      "text/plain": [
       "<Figure size 432x288 with 1 Axes>"
      ]
     },
     "metadata": {
      "needs_background": "light",
      "tags": []
     },
     "output_type": "display_data"
    }
   ],
   "source": [
    "df_count = df[\"Gold_member\"].value_counts()  #일반회원 11,350 , VIP 205\n",
    "df_count.plot.barh()"
   ]
  },
  {
   "cell_type": "markdown",
   "metadata": {
    "colab_type": "text",
    "id": "DXwTLDKeOOOE"
   },
   "source": [
    "# 구매데이터"
   ]
  },
  {
   "cell_type": "code",
   "execution_count": 0,
   "metadata": {
    "colab": {},
    "colab_type": "code",
    "id": "GG2azmnWOOOE",
    "outputId": "5255945f-14f0-4769-b141-6b6a437c2c95"
   },
   "outputs": [
    {
     "data": {
      "text/html": [
       "<div>\n",
       "<style scoped>\n",
       "    .dataframe tbody tr th:only-of-type {\n",
       "        vertical-align: middle;\n",
       "    }\n",
       "\n",
       "    .dataframe tbody tr th {\n",
       "        vertical-align: top;\n",
       "    }\n",
       "\n",
       "    .dataframe thead th {\n",
       "        text-align: right;\n",
       "    }\n",
       "</style>\n",
       "<table border=\"1\" class=\"dataframe\">\n",
       "  <thead>\n",
       "    <tr style=\"text-align: right;\">\n",
       "      <th></th>\n",
       "      <th>공급일자</th>\n",
       "      <th>회원번호</th>\n",
       "      <th>조합원상태</th>\n",
       "      <th>물품대분류</th>\n",
       "      <th>물품중분류</th>\n",
       "      <th>물품소분류</th>\n",
       "      <th>물품명</th>\n",
       "      <th>구매수량</th>\n",
       "      <th>구매금액</th>\n",
       "      <th>구매매장</th>\n",
       "      <th>반품_원거래일자</th>\n",
       "      <th>구매시각</th>\n",
       "    </tr>\n",
       "  </thead>\n",
       "  <tbody>\n",
       "    <tr>\n",
       "      <td>0</td>\n",
       "      <td>2018-01-02</td>\n",
       "      <td>272369856</td>\n",
       "      <td>정상회원</td>\n",
       "      <td>과실</td>\n",
       "      <td>과일</td>\n",
       "      <td>사과</td>\n",
       "      <td>사과/유(1.5kg)</td>\n",
       "      <td>1.0</td>\n",
       "      <td>22207</td>\n",
       "      <td>매장C</td>\n",
       "      <td>NaN</td>\n",
       "      <td>10:04</td>\n",
       "    </tr>\n",
       "    <tr>\n",
       "      <td>1</td>\n",
       "      <td>2018-01-02</td>\n",
       "      <td>1476143616</td>\n",
       "      <td>정상회원</td>\n",
       "      <td>간식</td>\n",
       "      <td>빵</td>\n",
       "      <td>식빵, 식사대용</td>\n",
       "      <td>아침빵(240g/8개)/매장</td>\n",
       "      <td>1.0</td>\n",
       "      <td>4403</td>\n",
       "      <td>매장C</td>\n",
       "      <td>NaN</td>\n",
       "      <td>10:09</td>\n",
       "    </tr>\n",
       "    <tr>\n",
       "      <td>2</td>\n",
       "      <td>2018-01-02</td>\n",
       "      <td>743192512</td>\n",
       "      <td>정상회원</td>\n",
       "      <td>채소</td>\n",
       "      <td>양념채소</td>\n",
       "      <td>생강</td>\n",
       "      <td>생강(300g)</td>\n",
       "      <td>1.0</td>\n",
       "      <td>7083</td>\n",
       "      <td>매장C</td>\n",
       "      <td>NaN</td>\n",
       "      <td>10:12</td>\n",
       "    </tr>\n",
       "    <tr>\n",
       "      <td>3</td>\n",
       "      <td>2018-01-02</td>\n",
       "      <td>176912064</td>\n",
       "      <td>정상회원</td>\n",
       "      <td>축산물</td>\n",
       "      <td>유제품</td>\n",
       "      <td>우유/산양유</td>\n",
       "      <td>유기농저지방우유(종이팩/900ml)</td>\n",
       "      <td>1.0</td>\n",
       "      <td>7849</td>\n",
       "      <td>매장C</td>\n",
       "      <td>NaN</td>\n",
       "      <td>10:23</td>\n",
       "    </tr>\n",
       "    <tr>\n",
       "      <td>4</td>\n",
       "      <td>2018-01-02</td>\n",
       "      <td>87592064</td>\n",
       "      <td>정상회원</td>\n",
       "      <td>양념/가루</td>\n",
       "      <td>가루</td>\n",
       "      <td>양념가루</td>\n",
       "      <td>카레(매운맛: 100g)</td>\n",
       "      <td>3.0</td>\n",
       "      <td>15507</td>\n",
       "      <td>매장C</td>\n",
       "      <td>NaN</td>\n",
       "      <td>10:29</td>\n",
       "    </tr>\n",
       "    <tr>\n",
       "      <td>...</td>\n",
       "      <td>...</td>\n",
       "      <td>...</td>\n",
       "      <td>...</td>\n",
       "      <td>...</td>\n",
       "      <td>...</td>\n",
       "      <td>...</td>\n",
       "      <td>...</td>\n",
       "      <td>...</td>\n",
       "      <td>...</td>\n",
       "      <td>...</td>\n",
       "      <td>...</td>\n",
       "      <td>...</td>\n",
       "    </tr>\n",
       "    <tr>\n",
       "      <td>52565</td>\n",
       "      <td>2018-10-31</td>\n",
       "      <td>1110819712</td>\n",
       "      <td>정상회원</td>\n",
       "      <td>채소</td>\n",
       "      <td>뿌리채소</td>\n",
       "      <td>무</td>\n",
       "      <td>무(0.7~1kg미만)</td>\n",
       "      <td>1.0</td>\n",
       "      <td>2680</td>\n",
       "      <td>매장A</td>\n",
       "      <td>NaN</td>\n",
       "      <td>13:26</td>\n",
       "    </tr>\n",
       "    <tr>\n",
       "      <td>52566</td>\n",
       "      <td>2018-10-31</td>\n",
       "      <td>1517953728</td>\n",
       "      <td>정상회원</td>\n",
       "      <td>채소</td>\n",
       "      <td>양념채소</td>\n",
       "      <td>쪽파</td>\n",
       "      <td>쪽파(500g)</td>\n",
       "      <td>1.0</td>\n",
       "      <td>4212</td>\n",
       "      <td>매장A</td>\n",
       "      <td>NaN</td>\n",
       "      <td>10:58</td>\n",
       "    </tr>\n",
       "    <tr>\n",
       "      <td>52567</td>\n",
       "      <td>2018-10-31</td>\n",
       "      <td>713691392</td>\n",
       "      <td>정상회원</td>\n",
       "      <td>반찬</td>\n",
       "      <td>밑반찬</td>\n",
       "      <td>조림</td>\n",
       "      <td>우엉조림(반찬용/150g)</td>\n",
       "      <td>1.0</td>\n",
       "      <td>7658</td>\n",
       "      <td>매장A</td>\n",
       "      <td>NaN</td>\n",
       "      <td>14:36</td>\n",
       "    </tr>\n",
       "    <tr>\n",
       "      <td>52568</td>\n",
       "      <td>2018-10-31</td>\n",
       "      <td>247926336</td>\n",
       "      <td>정상회원</td>\n",
       "      <td>간식</td>\n",
       "      <td>빵</td>\n",
       "      <td>건강곡물빵</td>\n",
       "      <td>감자바게트(180g)/매장</td>\n",
       "      <td>1.0</td>\n",
       "      <td>5169</td>\n",
       "      <td>매장A</td>\n",
       "      <td>NaN</td>\n",
       "      <td>16:23</td>\n",
       "    </tr>\n",
       "    <tr>\n",
       "      <td>52569</td>\n",
       "      <td>2018-10-31</td>\n",
       "      <td>748292800</td>\n",
       "      <td>정상회원</td>\n",
       "      <td>채소</td>\n",
       "      <td>뿌리채소</td>\n",
       "      <td>무</td>\n",
       "      <td>무(1kg이상)</td>\n",
       "      <td>1.0</td>\n",
       "      <td>3829</td>\n",
       "      <td>매장A</td>\n",
       "      <td>NaN</td>\n",
       "      <td>16:51</td>\n",
       "    </tr>\n",
       "  </tbody>\n",
       "</table>\n",
       "<p>294645 rows × 12 columns</p>\n",
       "</div>"
      ],
      "text/plain": [
       "             공급일자        회원번호 조합원상태  물품대분류 물품중분류     물품소분류  \\\n",
       "0      2018-01-02   272369856  정상회원     과실    과일        사과   \n",
       "1      2018-01-02  1476143616  정상회원     간식     빵  식빵, 식사대용   \n",
       "2      2018-01-02   743192512  정상회원     채소  양념채소        생강   \n",
       "3      2018-01-02   176912064  정상회원    축산물   유제품    우유/산양유   \n",
       "4      2018-01-02    87592064  정상회원  양념/가루    가루      양념가루   \n",
       "...           ...         ...   ...    ...   ...       ...   \n",
       "52565  2018-10-31  1110819712  정상회원     채소  뿌리채소         무   \n",
       "52566  2018-10-31  1517953728  정상회원     채소  양념채소        쪽파   \n",
       "52567  2018-10-31   713691392  정상회원     반찬   밑반찬        조림   \n",
       "52568  2018-10-31   247926336  정상회원     간식     빵     건강곡물빵   \n",
       "52569  2018-10-31   748292800  정상회원     채소  뿌리채소         무   \n",
       "\n",
       "                       물품명  구매수량   구매금액 구매매장  반품_원거래일자   구매시각  \n",
       "0              사과/유(1.5kg)   1.0  22207  매장C       NaN  10:04  \n",
       "1          아침빵(240g/8개)/매장   1.0   4403  매장C       NaN  10:09  \n",
       "2                 생강(300g)   1.0   7083  매장C       NaN  10:12  \n",
       "3      유기농저지방우유(종이팩/900ml)   1.0   7849  매장C       NaN  10:23  \n",
       "4            카레(매운맛: 100g)   3.0  15507  매장C       NaN  10:29  \n",
       "...                    ...   ...    ...  ...       ...    ...  \n",
       "52565         무(0.7~1kg미만)   1.0   2680  매장A       NaN  13:26  \n",
       "52566             쪽파(500g)   1.0   4212  매장A       NaN  10:58  \n",
       "52567       우엉조림(반찬용/150g)   1.0   7658  매장A       NaN  14:36  \n",
       "52568       감자바게트(180g)/매장   1.0   5169  매장A       NaN  16:23  \n",
       "52569             무(1kg이상)   1.0   3829  매장A       NaN  16:51  \n",
       "\n",
       "[294645 rows x 12 columns]"
      ]
     },
     "execution_count": 26,
     "metadata": {
      "tags": []
     },
     "output_type": "execute_result"
    }
   ],
   "source": [
    "prodata"
   ]
  },
  {
   "cell_type": "code",
   "execution_count": 0,
   "metadata": {
    "colab": {},
    "colab_type": "code",
    "id": "MVvPDkzaOOOH",
    "outputId": "6552f727-4701-4a79-f78d-6c6301e0bca8"
   },
   "outputs": [
    {
     "name": "stdout",
     "output_type": "stream",
     "text": [
      "<class 'pandas.core.frame.DataFrame'>\n",
      "Int64Index: 294645 entries, 0 to 52569\n",
      "Data columns (total 12 columns):\n",
      "공급일자        294645 non-null object\n",
      "회원번호        294645 non-null int64\n",
      "조합원상태       294645 non-null object\n",
      "물품대분류       294645 non-null object\n",
      "물품중분류       294645 non-null object\n",
      "물품소분류       294645 non-null object\n",
      "물품명         294645 non-null object\n",
      "구매수량        294645 non-null float64\n",
      "구매금액        294645 non-null int64\n",
      "구매매장        294645 non-null object\n",
      "반품_원거래일자    4960 non-null float64\n",
      "구매시각        294645 non-null object\n",
      "dtypes: float64(2), int64(2), object(8)\n",
      "memory usage: 29.2+ MB\n"
     ]
    }
   ],
   "source": [
    "prodata.info()"
   ]
  },
  {
   "cell_type": "code",
   "execution_count": 0,
   "metadata": {
    "colab": {},
    "colab_type": "code",
    "id": "yotM2KRFOOOL"
   },
   "outputs": [],
   "source": [
    "prodata['연도']= prodata['공급일자'].str.split('-').str[0]\n",
    "prodata['월']= prodata['공급일자'].str.split('-').str[1]\n",
    "prodata['일']= prodata['공급일자'].str.split('-').str[2]"
   ]
  },
  {
   "cell_type": "code",
   "execution_count": 0,
   "metadata": {
    "colab": {},
    "colab_type": "code",
    "id": "OBJ5E-ihOOOO"
   },
   "outputs": [],
   "source": [
    "def print_whichday(a) :\n",
    "    r = ['월', '화', '수', '목', '금', '토', '일']\n",
    "    yy=int(a.split('-')[0])\n",
    "    mm=int(a.split('-')[1])\n",
    "    dd=int(a.split('-')[2])\n",
    "    aday = datetime.date(yy, mm, dd)\n",
    "    bday = aday.weekday()\n",
    "    return r[bday]\n",
    "\n",
    "prodata['요일']=prodata['공급일자'].apply(print_whichday)"
   ]
  },
  {
   "cell_type": "code",
   "execution_count": 0,
   "metadata": {
    "colab": {},
    "colab_type": "code",
    "id": "RW8m1ZwNOOOS"
   },
   "outputs": [],
   "source": [
    "prodata['구매_시']= prodata['구매시각'].str.split(':').str[0]"
   ]
  },
  {
   "cell_type": "code",
   "execution_count": 0,
   "metadata": {
    "colab": {},
    "colab_type": "code",
    "id": "YO0vdSReOOOW"
   },
   "outputs": [],
   "source": [
    "# def div_product(row):\n",
    "#     return row.split('('')[0]\n",
    "\n",
    "# prodata['물품'] = prodata['물품명'].apply(div_product)\n",
    "# prodata['물품'].value_counts()\n",
    "# prodata['물품'].value_counts().index.tolist()"
   ]
  },
  {
   "cell_type": "code",
   "execution_count": 0,
   "metadata": {
    "colab": {},
    "colab_type": "code",
    "id": "deL47XDTOOOY"
   },
   "outputs": [],
   "source": [
    "prodata['반품_원거래일자']=prodata['반품_원거래일자'].fillna(0)"
   ]
  },
  {
   "cell_type": "code",
   "execution_count": 0,
   "metadata": {
    "colab": {},
    "colab_type": "code",
    "id": "hH-shtCOOOOa",
    "outputId": "d4a3a92b-b563-41af-cdea-93984ab3ce30",
    "scrolled": true
   },
   "outputs": [
    {
     "data": {
      "text/html": [
       "<div>\n",
       "<style scoped>\n",
       "    .dataframe tbody tr th:only-of-type {\n",
       "        vertical-align: middle;\n",
       "    }\n",
       "\n",
       "    .dataframe tbody tr th {\n",
       "        vertical-align: top;\n",
       "    }\n",
       "\n",
       "    .dataframe thead th {\n",
       "        text-align: right;\n",
       "    }\n",
       "</style>\n",
       "<table border=\"1\" class=\"dataframe\">\n",
       "  <thead>\n",
       "    <tr style=\"text-align: right;\">\n",
       "      <th></th>\n",
       "      <th>공급일자</th>\n",
       "      <th>회원번호</th>\n",
       "      <th>조합원상태</th>\n",
       "      <th>물품대분류</th>\n",
       "      <th>물품중분류</th>\n",
       "      <th>물품소분류</th>\n",
       "      <th>물품명</th>\n",
       "      <th>구매수량</th>\n",
       "      <th>구매금액</th>\n",
       "      <th>구매매장</th>\n",
       "      <th>반품_원거래일자</th>\n",
       "      <th>구매시각</th>\n",
       "      <th>연도</th>\n",
       "      <th>월</th>\n",
       "      <th>일</th>\n",
       "      <th>요일</th>\n",
       "      <th>구매_시</th>\n",
       "    </tr>\n",
       "  </thead>\n",
       "  <tbody>\n",
       "    <tr>\n",
       "      <td>0</td>\n",
       "      <td>2018-01-02</td>\n",
       "      <td>272369856</td>\n",
       "      <td>정상회원</td>\n",
       "      <td>과실</td>\n",
       "      <td>과일</td>\n",
       "      <td>사과</td>\n",
       "      <td>사과/유(1.5kg)</td>\n",
       "      <td>1.0</td>\n",
       "      <td>22207</td>\n",
       "      <td>매장C</td>\n",
       "      <td>0.0</td>\n",
       "      <td>10:04</td>\n",
       "      <td>2018</td>\n",
       "      <td>01</td>\n",
       "      <td>02</td>\n",
       "      <td>화</td>\n",
       "      <td>10</td>\n",
       "    </tr>\n",
       "    <tr>\n",
       "      <td>1</td>\n",
       "      <td>2018-01-02</td>\n",
       "      <td>1476143616</td>\n",
       "      <td>정상회원</td>\n",
       "      <td>간식</td>\n",
       "      <td>빵</td>\n",
       "      <td>식빵, 식사대용</td>\n",
       "      <td>아침빵(240g/8개)/매장</td>\n",
       "      <td>1.0</td>\n",
       "      <td>4403</td>\n",
       "      <td>매장C</td>\n",
       "      <td>0.0</td>\n",
       "      <td>10:09</td>\n",
       "      <td>2018</td>\n",
       "      <td>01</td>\n",
       "      <td>02</td>\n",
       "      <td>화</td>\n",
       "      <td>10</td>\n",
       "    </tr>\n",
       "    <tr>\n",
       "      <td>2</td>\n",
       "      <td>2018-01-02</td>\n",
       "      <td>743192512</td>\n",
       "      <td>정상회원</td>\n",
       "      <td>채소</td>\n",
       "      <td>양념채소</td>\n",
       "      <td>생강</td>\n",
       "      <td>생강(300g)</td>\n",
       "      <td>1.0</td>\n",
       "      <td>7083</td>\n",
       "      <td>매장C</td>\n",
       "      <td>0.0</td>\n",
       "      <td>10:12</td>\n",
       "      <td>2018</td>\n",
       "      <td>01</td>\n",
       "      <td>02</td>\n",
       "      <td>화</td>\n",
       "      <td>10</td>\n",
       "    </tr>\n",
       "    <tr>\n",
       "      <td>3</td>\n",
       "      <td>2018-01-02</td>\n",
       "      <td>176912064</td>\n",
       "      <td>정상회원</td>\n",
       "      <td>축산물</td>\n",
       "      <td>유제품</td>\n",
       "      <td>우유/산양유</td>\n",
       "      <td>유기농저지방우유(종이팩/900ml)</td>\n",
       "      <td>1.0</td>\n",
       "      <td>7849</td>\n",
       "      <td>매장C</td>\n",
       "      <td>0.0</td>\n",
       "      <td>10:23</td>\n",
       "      <td>2018</td>\n",
       "      <td>01</td>\n",
       "      <td>02</td>\n",
       "      <td>화</td>\n",
       "      <td>10</td>\n",
       "    </tr>\n",
       "    <tr>\n",
       "      <td>4</td>\n",
       "      <td>2018-01-02</td>\n",
       "      <td>87592064</td>\n",
       "      <td>정상회원</td>\n",
       "      <td>양념/가루</td>\n",
       "      <td>가루</td>\n",
       "      <td>양념가루</td>\n",
       "      <td>카레(매운맛: 100g)</td>\n",
       "      <td>3.0</td>\n",
       "      <td>15507</td>\n",
       "      <td>매장C</td>\n",
       "      <td>0.0</td>\n",
       "      <td>10:29</td>\n",
       "      <td>2018</td>\n",
       "      <td>01</td>\n",
       "      <td>02</td>\n",
       "      <td>화</td>\n",
       "      <td>10</td>\n",
       "    </tr>\n",
       "    <tr>\n",
       "      <td>...</td>\n",
       "      <td>...</td>\n",
       "      <td>...</td>\n",
       "      <td>...</td>\n",
       "      <td>...</td>\n",
       "      <td>...</td>\n",
       "      <td>...</td>\n",
       "      <td>...</td>\n",
       "      <td>...</td>\n",
       "      <td>...</td>\n",
       "      <td>...</td>\n",
       "      <td>...</td>\n",
       "      <td>...</td>\n",
       "      <td>...</td>\n",
       "      <td>...</td>\n",
       "      <td>...</td>\n",
       "      <td>...</td>\n",
       "      <td>...</td>\n",
       "    </tr>\n",
       "    <tr>\n",
       "      <td>52565</td>\n",
       "      <td>2018-10-31</td>\n",
       "      <td>1110819712</td>\n",
       "      <td>정상회원</td>\n",
       "      <td>채소</td>\n",
       "      <td>뿌리채소</td>\n",
       "      <td>무</td>\n",
       "      <td>무(0.7~1kg미만)</td>\n",
       "      <td>1.0</td>\n",
       "      <td>2680</td>\n",
       "      <td>매장A</td>\n",
       "      <td>0.0</td>\n",
       "      <td>13:26</td>\n",
       "      <td>2018</td>\n",
       "      <td>10</td>\n",
       "      <td>31</td>\n",
       "      <td>수</td>\n",
       "      <td>13</td>\n",
       "    </tr>\n",
       "    <tr>\n",
       "      <td>52566</td>\n",
       "      <td>2018-10-31</td>\n",
       "      <td>1517953728</td>\n",
       "      <td>정상회원</td>\n",
       "      <td>채소</td>\n",
       "      <td>양념채소</td>\n",
       "      <td>쪽파</td>\n",
       "      <td>쪽파(500g)</td>\n",
       "      <td>1.0</td>\n",
       "      <td>4212</td>\n",
       "      <td>매장A</td>\n",
       "      <td>0.0</td>\n",
       "      <td>10:58</td>\n",
       "      <td>2018</td>\n",
       "      <td>10</td>\n",
       "      <td>31</td>\n",
       "      <td>수</td>\n",
       "      <td>10</td>\n",
       "    </tr>\n",
       "    <tr>\n",
       "      <td>52567</td>\n",
       "      <td>2018-10-31</td>\n",
       "      <td>713691392</td>\n",
       "      <td>정상회원</td>\n",
       "      <td>반찬</td>\n",
       "      <td>밑반찬</td>\n",
       "      <td>조림</td>\n",
       "      <td>우엉조림(반찬용/150g)</td>\n",
       "      <td>1.0</td>\n",
       "      <td>7658</td>\n",
       "      <td>매장A</td>\n",
       "      <td>0.0</td>\n",
       "      <td>14:36</td>\n",
       "      <td>2018</td>\n",
       "      <td>10</td>\n",
       "      <td>31</td>\n",
       "      <td>수</td>\n",
       "      <td>14</td>\n",
       "    </tr>\n",
       "    <tr>\n",
       "      <td>52568</td>\n",
       "      <td>2018-10-31</td>\n",
       "      <td>247926336</td>\n",
       "      <td>정상회원</td>\n",
       "      <td>간식</td>\n",
       "      <td>빵</td>\n",
       "      <td>건강곡물빵</td>\n",
       "      <td>감자바게트(180g)/매장</td>\n",
       "      <td>1.0</td>\n",
       "      <td>5169</td>\n",
       "      <td>매장A</td>\n",
       "      <td>0.0</td>\n",
       "      <td>16:23</td>\n",
       "      <td>2018</td>\n",
       "      <td>10</td>\n",
       "      <td>31</td>\n",
       "      <td>수</td>\n",
       "      <td>16</td>\n",
       "    </tr>\n",
       "    <tr>\n",
       "      <td>52569</td>\n",
       "      <td>2018-10-31</td>\n",
       "      <td>748292800</td>\n",
       "      <td>정상회원</td>\n",
       "      <td>채소</td>\n",
       "      <td>뿌리채소</td>\n",
       "      <td>무</td>\n",
       "      <td>무(1kg이상)</td>\n",
       "      <td>1.0</td>\n",
       "      <td>3829</td>\n",
       "      <td>매장A</td>\n",
       "      <td>0.0</td>\n",
       "      <td>16:51</td>\n",
       "      <td>2018</td>\n",
       "      <td>10</td>\n",
       "      <td>31</td>\n",
       "      <td>수</td>\n",
       "      <td>16</td>\n",
       "    </tr>\n",
       "  </tbody>\n",
       "</table>\n",
       "<p>294645 rows × 17 columns</p>\n",
       "</div>"
      ],
      "text/plain": [
       "             공급일자        회원번호 조합원상태  물품대분류 물품중분류     물품소분류  \\\n",
       "0      2018-01-02   272369856  정상회원     과실    과일        사과   \n",
       "1      2018-01-02  1476143616  정상회원     간식     빵  식빵, 식사대용   \n",
       "2      2018-01-02   743192512  정상회원     채소  양념채소        생강   \n",
       "3      2018-01-02   176912064  정상회원    축산물   유제품    우유/산양유   \n",
       "4      2018-01-02    87592064  정상회원  양념/가루    가루      양념가루   \n",
       "...           ...         ...   ...    ...   ...       ...   \n",
       "52565  2018-10-31  1110819712  정상회원     채소  뿌리채소         무   \n",
       "52566  2018-10-31  1517953728  정상회원     채소  양념채소        쪽파   \n",
       "52567  2018-10-31   713691392  정상회원     반찬   밑반찬        조림   \n",
       "52568  2018-10-31   247926336  정상회원     간식     빵     건강곡물빵   \n",
       "52569  2018-10-31   748292800  정상회원     채소  뿌리채소         무   \n",
       "\n",
       "                       물품명  구매수량   구매금액 구매매장  반품_원거래일자   구매시각    연도   월   일  \\\n",
       "0              사과/유(1.5kg)   1.0  22207  매장C       0.0  10:04  2018  01  02   \n",
       "1          아침빵(240g/8개)/매장   1.0   4403  매장C       0.0  10:09  2018  01  02   \n",
       "2                 생강(300g)   1.0   7083  매장C       0.0  10:12  2018  01  02   \n",
       "3      유기농저지방우유(종이팩/900ml)   1.0   7849  매장C       0.0  10:23  2018  01  02   \n",
       "4            카레(매운맛: 100g)   3.0  15507  매장C       0.0  10:29  2018  01  02   \n",
       "...                    ...   ...    ...  ...       ...    ...   ...  ..  ..   \n",
       "52565         무(0.7~1kg미만)   1.0   2680  매장A       0.0  13:26  2018  10  31   \n",
       "52566             쪽파(500g)   1.0   4212  매장A       0.0  10:58  2018  10  31   \n",
       "52567       우엉조림(반찬용/150g)   1.0   7658  매장A       0.0  14:36  2018  10  31   \n",
       "52568       감자바게트(180g)/매장   1.0   5169  매장A       0.0  16:23  2018  10  31   \n",
       "52569             무(1kg이상)   1.0   3829  매장A       0.0  16:51  2018  10  31   \n",
       "\n",
       "      요일 구매_시  \n",
       "0      화   10  \n",
       "1      화   10  \n",
       "2      화   10  \n",
       "3      화   10  \n",
       "4      화   10  \n",
       "...   ..  ...  \n",
       "52565  수   13  \n",
       "52566  수   10  \n",
       "52567  수   14  \n",
       "52568  수   16  \n",
       "52569  수   16  \n",
       "\n",
       "[294645 rows x 17 columns]"
      ]
     },
     "execution_count": 41,
     "metadata": {
      "tags": []
     },
     "output_type": "execute_result"
    }
   ],
   "source": [
    "prodata"
   ]
  },
  {
   "cell_type": "code",
   "execution_count": null,
   "metadata": {},
   "outputs": [],
   "source": []
  }
 ],
 "metadata": {
  "colab": {
   "name": "1108_전처리.ipynb",
   "provenance": []
  },
  "kernelspec": {
   "display_name": "Python 3",
   "language": "python",
   "name": "python3"
  },
  "language_info": {
   "codemirror_mode": {
    "name": "ipython",
    "version": 3
   },
   "file_extension": ".py",
   "mimetype": "text/x-python",
   "name": "python",
   "nbconvert_exporter": "python",
   "pygments_lexer": "ipython3",
   "version": "3.7.4"
  }
 },
 "nbformat": 4,
 "nbformat_minor": 1
}
